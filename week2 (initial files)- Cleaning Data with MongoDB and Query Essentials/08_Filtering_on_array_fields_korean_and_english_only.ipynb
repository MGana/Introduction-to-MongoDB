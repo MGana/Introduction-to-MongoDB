{
 "cells": [
  {
   "cell_type": "code",
   "execution_count": 5,
   "metadata": {},
   "outputs": [
    {
     "name": "stdout",
     "output_type": "stream",
     "text": [
      "[{'languages': ['Korean', 'English'], 'title': 'Marine Battleground'},\n",
      " {'languages': ['Korean', 'English'], 'title': 'Marine Battleground'},\n",
      " {'languages': ['Korean', 'English'], 'title': 'Address Unknown'},\n",
      " {'languages': ['Korean', 'English'], 'title': 'My Sassy Girl'},\n",
      " {'languages': ['Korean', 'English'], 'title': 'Guns & Talks'},\n",
      " {'languages': ['Korean', 'English'], 'title': 'Hwasango'},\n",
      " {'languages': ['Korean', 'English'], 'title': 'Sky Blue'},\n",
      " {'languages': ['Korean', 'English'], 'title': 'Memories of Murder'},\n",
      " {'languages': ['Korean', 'English'], 'title': 'Please Teach Me English'},\n",
      " {'languages': ['Korean', 'English'], 'title': 'My Little Bride'},\n",
      " {'languages': ['Korean', 'English'], 'title': 'The Host'},\n",
      " {'languages': ['Korean', 'English'], 'title': 'Crossing the Line'},\n",
      " {'languages': ['Korean', 'English'], 'title': 'Battle Ground 625'},\n",
      " {'languages': ['Korean', 'English'], 'title': 'In Between Days'},\n",
      " {'languages': ['Korean', 'English'], 'title': 'Never Forever'},\n",
      " {'languages': ['Korean', 'English'], 'title': 'Tidal Wave'},\n",
      " {'languages': ['Korean', 'English'], 'title': 'The Juche Idea'},\n",
      " {'languages': ['Korean', 'English'], 'title': 'The Housemaid'},\n",
      " {'languages': ['Korean', 'English'], 'title': 'Castaway on the Moon'},\n",
      " {'languages': ['Korean', 'English'], 'title': 'The Man from Nowhere'},\n",
      " {'languages': ['Korean', 'English'], 'title': '71: Into the Fire'},\n",
      " {'languages': ['Korean', 'English'], 'title': 'The Front Line'},\n",
      " {'languages': ['Korean', 'English'], 'title': 'A Company Man'},\n",
      " {'languages': ['Korean', 'English'], 'title': \"Nobody's Daughter Haewon\"},\n",
      " {'languages': ['Korean', 'English'], 'title': 'The Drop Box'},\n",
      " {'languages': ['Korean', 'English'], 'title': 'Okja'},\n",
      " {'languages': ['Korean', 'English'], 'title': 'Robot Sound'}]\n"
     ]
    }
   ],
   "source": [
    "import pymongo\n",
    "from pymongo import MongoClient\n",
    "import pprint\n",
    "from IPython.display import clear_output\n",
    "\n",
    "# Replace XXXX with your connection URI from the Atlas UI\n",
    "client = MongoClient(\"mongodb://XXXXXXXXXX@mflix-shard-00-00-XXX.mongodb.XX017/mflix?ssl=true&reXXXXXX\")\n",
    "\n",
    "#What this filter means is find the all documents where for the languages key, the value is precisely \n",
    "#this array, Korean listed first as the zeroth element and English listed second as the element at index one\n",
    "filter = {\n",
    "    'languages': ['Korean', 'English']\n",
    "}\n",
    "\n",
    "\n",
    "projection = {\n",
    "    #exclude the id\n",
    "    '_id': 0,\n",
    "    'title' : 1,\n",
    "    'languages' : 1\n",
    "}\n",
    "\n",
    "clear_output()\n",
    "pprint.pprint(list(client.mflix.movies.find(filter, projection)))"
   ]
  },
  {
   "cell_type": "code",
   "execution_count": null,
   "metadata": {
    "collapsed": true
   },
   "outputs": [],
   "source": []
  }
 ],
 "metadata": {
  "kernelspec": {
   "display_name": "Python 3",
   "language": "python",
   "name": "python3"
  },
  "language_info": {
   "codemirror_mode": {
    "name": "ipython",
    "version": 3
   },
   "file_extension": ".py",
   "mimetype": "text/x-python",
   "name": "python",
   "nbconvert_exporter": "python",
   "pygments_lexer": "ipython3",
   "version": "3.6.2"
  }
 },
 "nbformat": 4,
 "nbformat_minor": 2
}
