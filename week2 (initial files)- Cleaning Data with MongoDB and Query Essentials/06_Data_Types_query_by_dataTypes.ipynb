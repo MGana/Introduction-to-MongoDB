{
 "cells": [
  {
   "cell_type": "code",
   "execution_count": 1,
   "metadata": {
    "collapsed": true
   },
   "outputs": [],
   "source": [
    "import pymongo\n",
    "import pprint"
   ]
  },
  {
   "cell_type": "code",
   "execution_count": 2,
   "metadata": {
    "collapsed": true
   },
   "outputs": [],
   "source": [
    "# Replace XXXX with your connection URI from the Atlas UI\n",
    "course_cluster_uri = \"XXXXXXXX\""
   ]
  },
  {
   "cell_type": "code",
   "execution_count": 3,
   "metadata": {
    "collapsed": true
   },
   "outputs": [],
   "source": [
    "course_client = pymongo.MongoClient(course_cluster_uri)\n",
    "movies = course_client['mflix']['movies']"
   ]
  },
  {
   "cell_type": "code",
   "execution_count": 4,
   "metadata": {
    "collapsed": true
   },
   "outputs": [],
   "source": [
    "movie = movies.find_one()"
   ]
  },
  {
   "cell_type": "code",
   "execution_count": 5,
   "metadata": {},
   "outputs": [
    {
     "name": "stdout",
     "output_type": "stream",
     "text": [
      "{'_id': ObjectId('59ec5df900611b88a353824c'),\n",
      " 'cast': ['Carmencita'],\n",
      " 'countries': ['USA'],\n",
      " 'directors': ['William K.L. Dickson'],\n",
      " 'fullPlot': 'Performing on what looks like a small wooden stage, wearing a '\n",
      "             'dress with a hoop skirt and white high-heeled pumps, Carmencita '\n",
      "             'does a dance with kicks and twirls, a smile always on her face.',\n",
      " 'genres': ['Documentary', 'Short'],\n",
      " 'imdb': {'id': 1, 'rating': 5.9, 'votes': 1032},\n",
      " 'lastupdated': '2015-08-26 00:03:45.040000000',\n",
      " 'plot': 'Performing on what looks like a small wooden stage, wearing a dress '\n",
      "         'with a hoop skirt and white high-heeled pumps, Carmencita does a '\n",
      "         'dance with kicks and twirls, a smile always on her face.',\n",
      " 'poster': 'http://ia.media-imdb.com/images/M/MV5BMjAzNDEwMzk3OV5BMl5BanBnXkFtZTcwOTk4OTM5Ng@@._V1_SX300.jpg',\n",
      " 'rated': 'NOT RATED',\n",
      " 'runtime': 1,\n",
      " 'title': 'Carmencita',\n",
      " 'type': 'movie',\n",
      " 'year': 1894}\n"
     ]
    }
   ],
   "source": [
    "pprint.pprint(movie)"
   ]
  },
  {
   "cell_type": "code",
   "execution_count": 6,
   "metadata": {},
   "outputs": [
    {
     "data": {
      "text/plain": [
       "ObjectId('59ec5df900611b88a353824c')"
      ]
     },
     "execution_count": 6,
     "metadata": {},
     "output_type": "execute_result"
    }
   ],
   "source": [
    "# this ObjectId is actually a MongoDB data type. \n",
    "#And it's special because what it allows us to do is it allows MongoDB to identify, uniquely, every document in the database. \n",
    "movie['_id']\n",
    "\n",
    "#this random string of characters is actually composed of the current time in unix, \n",
    "#the ID of the machine that is running this, the process ID, and as well as a counter that starts with a random value."
   ]
  },
  {
   "cell_type": "code",
   "execution_count": 7,
   "metadata": {
    "collapsed": true
   },
   "outputs": [],
   "source": [
    "# So here's this dates database, and now I'm just going to go ahead and insert one document where I say dt,\n",
    "# which is date time, is the current time right now.\n",
    "from datetime import datetime\n",
    "dates = course_client['test']['dates']"
   ]
  },
  {
   "cell_type": "code",
   "execution_count": 8,
   "metadata": {},
   "outputs": [
    {
     "data": {
      "text/plain": [
       "<pymongo.results.InsertOneResult at 0x5b359c8>"
      ]
     },
     "execution_count": 8,
     "metadata": {},
     "output_type": "execute_result"
    }
   ],
   "source": [
    "dates.insert_one({ \"dt\": datetime.utcnow() })"
   ]
  },
  {
   "cell_type": "code",
   "execution_count": 9,
   "metadata": {},
   "outputs": [
    {
     "data": {
      "text/plain": [
       "{'_id': ObjectId('59ec6a1e73d3b837dcded01e'),\n",
       " 'dt': datetime.datetime(2017, 10, 22, 9, 51, 26, 912000)}"
      ]
     },
     "execution_count": 9,
     "metadata": {},
     "output_type": "execute_result"
    }
   ],
   "source": [
    "dates.find_one()"
   ]
  },
  {
   "cell_type": "code",
   "execution_count": 10,
   "metadata": {
    "collapsed": true
   },
   "outputs": [],
   "source": [
    "from bson.decimal128 import Decimal128\n",
    "decimals = course_client['test']['decimals']"
   ]
  },
  {
   "cell_type": "code",
   "execution_count": 11,
   "metadata": {},
   "outputs": [
    {
     "data": {
      "text/plain": [
       "<pymongo.results.InsertOneResult at 0x5b55d88>"
      ]
     },
     "execution_count": 11,
     "metadata": {},
     "output_type": "execute_result"
    }
   ],
   "source": [
    "decimals.insert_one({ \"money\": Decimal128(\"99.99\") })"
   ]
  },
  {
   "cell_type": "code",
   "execution_count": 12,
   "metadata": {},
   "outputs": [
    {
     "data": {
      "text/plain": [
       "{'_id': ObjectId('59ec6a8b73d3b837dcded01f'), 'money': Decimal128('99.99')}"
      ]
     },
     "execution_count": 12,
     "metadata": {},
     "output_type": "execute_result"
    }
   ],
   "source": [
    "decimals.find_one()"
   ]
  },
  {
   "cell_type": "code",
   "execution_count": 13,
   "metadata": {},
   "outputs": [
    {
     "data": {
      "text/plain": [
       "{'_id': ObjectId('59ec5df900611b88a353824c'),\n",
       " 'cast': ['Carmencita'],\n",
       " 'countries': ['USA'],\n",
       " 'directors': ['William K.L. Dickson'],\n",
       " 'fullPlot': 'Performing on what looks like a small wooden stage, wearing a dress with a hoop skirt and white high-heeled pumps, Carmencita does a dance with kicks and twirls, a smile always on her face.',\n",
       " 'genres': ['Documentary', 'Short'],\n",
       " 'imdb': {'id': 1, 'rating': 5.9, 'votes': 1032},\n",
       " 'lastupdated': '2015-08-26 00:03:45.040000000',\n",
       " 'plot': 'Performing on what looks like a small wooden stage, wearing a dress with a hoop skirt and white high-heeled pumps, Carmencita does a dance with kicks and twirls, a smile always on her face.',\n",
       " 'poster': 'http://ia.media-imdb.com/images/M/MV5BMjAzNDEwMzk3OV5BMl5BanBnXkFtZTcwOTk4OTM5Ng@@._V1_SX300.jpg',\n",
       " 'rated': 'NOT RATED',\n",
       " 'runtime': 1,\n",
       " 'title': 'Carmencita',\n",
       " 'type': 'movie',\n",
       " 'year': 1894}"
      ]
     },
     "execution_count": 13,
     "metadata": {},
     "output_type": "execute_result"
    }
   ],
   "source": [
    "#I'm writing a query where I want to find movies where the year is of type integer\n",
    "movies.find_one({ \"year\": { \"$type\": \"int\" } })"
   ]
  },
  {
   "cell_type": "code",
   "execution_count": null,
   "metadata": {
    "collapsed": true
   },
   "outputs": [],
   "source": []
  }
 ],
 "metadata": {
  "kernelspec": {
   "display_name": "Python 3",
   "language": "python",
   "name": "python3"
  },
  "language_info": {
   "codemirror_mode": {
    "name": "ipython",
    "version": 3
   },
   "file_extension": ".py",
   "mimetype": "text/x-python",
   "name": "python",
   "nbconvert_exporter": "python",
   "pygments_lexer": "ipython3",
   "version": "3.6.2"
  }
 },
 "nbformat": 4,
 "nbformat_minor": 2
}
