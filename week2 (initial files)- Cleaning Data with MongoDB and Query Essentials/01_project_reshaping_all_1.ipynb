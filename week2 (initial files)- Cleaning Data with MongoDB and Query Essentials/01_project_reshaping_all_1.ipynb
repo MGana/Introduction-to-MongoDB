{
 "cells": [
  {
   "cell_type": "code",
   "execution_count": null,
   "metadata": {
    "collapsed": true
   },
   "outputs": [],
   "source": [
    "import pymongo\n",
    "from pymongo import MongoClient\n",
    "import pprint\n",
    "from IPython.display import clear_output\n",
    "\n",
    "# Replace XXXX with your connection URI from the Atlas UI\n",
    "client = MongoClient(XXXX)\n",
    "\n",
    "pipeline = [\n",
    "    {\n",
    "        #limit search to the fist 100 documents\n",
    "        '$limit': 100\n",
    "    },\n",
    "    # In this case, what we're going to do is pass through all fields of every document, \n",
    "    #but for some we're going to do a little bit of work, to either clean them up or to reshape them in some way \n",
    "    #so that they meet our needs for the type of analysis and application building we want to do down the road\n",
    "    {\n",
    "        '$project': {\n",
    "            #I can stipulate that I want to include fields by simply specifying the field name and a one. \n",
    "            #And I could explicitly exclude fields with the use of a zero\n",
    "            'title': 1,\n",
    "            'year': 1,\n",
    "            #you'll note that we have that same split for each of these six fields here to convert each of the string values for these fields to array\n",
    "            'directors': {'$split': [\"$director\", \", \"]},\n",
    "            'actors': {'$split': [\"$cast\", \", \"]},\n",
    "            'writers': {'$split': [\"$writer\", \", \"]},\n",
    "            'genres': {'$split': [\"$genre\", \", \"]},\n",
    "            'languages': {'$split': [\"$language\", \", \"]},\n",
    "            'countries': {'$split': [\"$country\", \", \"]},\n",
    "            'plot': 1,\n",
    "            #In the movie's initial data set, there is a field called full plot. The only real problem with that field from my perspective is that it doesn't use camel case as the name of the field. \n",
    "            #So what I'm doing here is effectively renaming that field to full Plot\n",
    "            'fullPlot': \"$fullplot\",\n",
    "            #renaming the rating field to rated. I found with this data set that people get confused about what rating versus rated. \n",
    "            #The rating field is actually the MPAA rating, PG, R, PG-13. And that with the name rating, \n",
    "            #people tend to get confused thinking that its critics review or a viewer's review. But don't have that problem if we rename it rated\n",
    "            'rated': \"$rating\",\n",
    "            'released': 1,\n",
    "            'runtime': 1,\n",
    "            'poster': 1,\n",
    "            #And lastly, what I'd like to point out is that we're actually going to create an embedded document here for IMDb. \n",
    "            #The movie's initial data set, if we take a look at this encompass, currently has field values for IMDb rating, IMDb votes. \n",
    "            #In fact there are three keys that all lead off with the name IMDb. So rather than do that in this data set, \n",
    "            #what I'd like to do instead is have a single IMDb key and as its value, \n",
    "            #I want not a scalar value, not a string, and not an array, but instead an embedded document or in Python parlance, a dictionary\n",
    "            'imdb': {\n",
    "                'id': \"$imdbID\",\n",
    "                'rating': \"$imdbRating\",\n",
    "                'votes': \"$imdbVotes\"\n",
    "                },\n",
    "            'metacritic': 1,\n",
    "            'awards': 1,\n",
    "            'type': 1,\n",
    "            'lastUpdated': \"$lastupdated\"\n",
    "        }\n",
    "    },\n",
    "    {\n",
    "        #dump the result into movies_scratch collection\n",
    "        '$out': \"movies_scratch\"\n",
    "    }\n",
    "]\n",
    "\n",
    "clear_output()\n",
    "pprint.pprint(list(client.mflix.movies_initial.aggregate(pipeline)))"
   ]
  }
 ],
 "metadata": {
  "kernelspec": {
   "display_name": "Python 3",
   "language": "python",
   "name": "python3"
  },
  "language_info": {
   "codemirror_mode": {
    "name": "ipython",
    "version": 3
   },
   "file_extension": ".py",
   "mimetype": "text/x-python",
   "name": "python",
   "nbconvert_exporter": "python",
   "pygments_lexer": "ipython3",
   "version": "3.6.2"
  }
 },
 "nbformat": 4,
 "nbformat_minor": 2
}
