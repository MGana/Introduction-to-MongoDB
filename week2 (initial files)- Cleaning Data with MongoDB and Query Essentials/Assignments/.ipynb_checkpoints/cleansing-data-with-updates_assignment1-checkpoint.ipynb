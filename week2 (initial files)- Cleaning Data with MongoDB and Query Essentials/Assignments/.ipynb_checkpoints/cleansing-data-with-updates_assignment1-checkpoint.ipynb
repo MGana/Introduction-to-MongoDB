{
 "cells": [
  {
   "cell_type": "code",
   "execution_count": 1,
   "metadata": {},
   "outputs": [
    {
     "name": "stdout",
     "output_type": "stream",
     "text": [
      "Collecting dateparser\n",
      "  Downloading dateparser-0.6.0-py2.py3-none-any.whl (68kB)\n",
      "Requirement already satisfied: pytz in c:\\users\\mgana\\appdata\\local\\continuum\\anaconda3\\lib\\site-packages (from dateparser)\n",
      "Requirement already satisfied: python-dateutil in c:\\users\\mgana\\appdata\\local\\continuum\\anaconda3\\lib\\site-packages (from dateparser)\n",
      "Collecting ruamel.yaml (from dateparser)\n",
      "  Downloading ruamel.yaml-0.15.34-cp36-cp36m-win_amd64.whl (187kB)\n",
      "Collecting tzlocal (from dateparser)\n",
      "  Downloading tzlocal-1.4.tar.gz\n",
      "Collecting regex (from dateparser)\n",
      "  Downloading regex-2017.09.23-cp36-none-win_amd64.whl (246kB)\n",
      "Requirement already satisfied: six>=1.5 in c:\\users\\mgana\\appdata\\local\\continuum\\anaconda3\\lib\\site-packages (from python-dateutil->dateparser)\n",
      "Building wheels for collected packages: tzlocal\n",
      "  Running setup.py bdist_wheel for tzlocal: started\n",
      "  Running setup.py bdist_wheel for tzlocal: finished with status 'done'\n",
      "  Stored in directory: C:\\Users\\mgana\\AppData\\Local\\pip\\Cache\\wheels\\dc\\d6\\f0\\84194ccbdd3e2551bdb207e1fc1925efd32956c5767328103b\n",
      "Successfully built tzlocal\n",
      "Installing collected packages: ruamel.yaml, tzlocal, regex, dateparser\n",
      "Successfully installed dateparser-0.6.0 regex-2017.9.23 ruamel.yaml-0.15.34 tzlocal-1.4\n"
     ]
    }
   ],
   "source": [
    "# We're going to install this module to help us parse datetimes from the raw dataset\n",
    "!pip install dateparser"
   ]
  },
  {
   "cell_type": "code",
   "execution_count": 2,
   "metadata": {
    "collapsed": true
   },
   "outputs": [],
   "source": [
    "from pymongo import MongoClient, InsertOne, UpdateOne\n",
    "import pprint\n",
    "import dateparser\n",
    "from bson.json_util import loads"
   ]
  },
  {
   "cell_type": "code",
   "execution_count": 3,
   "metadata": {
    "collapsed": true
   },
   "outputs": [],
   "source": [
    "# Replace XXXX with your connection URI from the Atlas UI\n",
    "client = MongoClient(\"mongodb://analytics:XXXXXXXXXXXb.net:27017/mflix?ssl=true&replicaSet=mflix-shard-0&authSource=admin\")\n",
    "people_raw = client.cleansing['people-raw']"
   ]
  },
  {
   "cell_type": "code",
   "execution_count": 4,
   "metadata": {
    "collapsed": true
   },
   "outputs": [],
   "source": [
    "batch_size = 1000\n",
    "inserts = []\n",
    "count = 0"
   ]
  },
  {
   "cell_type": "code",
   "execution_count": 5,
   "metadata": {
    "collapsed": true
   },
   "outputs": [],
   "source": [
    "# There are over 50,000 lines, so this might take a while...\n",
    "# Make sure to wait until the cell finishes executing before moving on (the * will turn into a number)\n",
    "with open(\"./people-raw.json\") as dataset: \n",
    "    for line in dataset: \n",
    "        inserts.append(InsertOne(loads(line)))\n",
    "        \n",
    "        count += 1\n",
    "                       \n",
    "        if count == batch_size:\n",
    "            people_raw.bulk_write(inserts)\n",
    "            inserts = []\n",
    "            count = 0\n",
    "if inserts:         \n",
    "    people_raw.bulk_write(inserts)\n",
    "    count = 0"
   ]
  },
  {
   "cell_type": "code",
   "execution_count": 6,
   "metadata": {},
   "outputs": [
    {
     "data": {
      "text/plain": [
       "50474"
      ]
     },
     "execution_count": 6,
     "metadata": {},
     "output_type": "execute_result"
    }
   ],
   "source": [
    "# Confirm that 50,474 documents are in your collection before moving on\n",
    "people_raw.count()"
   ]
  },
  {
   "cell_type": "code",
   "execution_count": 13,
   "metadata": {
    "collapsed": true
   },
   "outputs": [],
   "source": [
    "# Replace YYYY with a query on the people-raw collection that will return a cursor with only\n",
    "# documents where the birthday field is a string\n",
    "people_with_string_birthdays = people_raw.find({ \"birthday\": { \"$type\": \"string\" } })"
   ]
  },
  {
   "cell_type": "code",
   "execution_count": 14,
   "metadata": {},
   "outputs": [
    {
     "data": {
      "text/plain": [
       "10382"
      ]
     },
     "execution_count": 14,
     "metadata": {},
     "output_type": "execute_result"
    }
   ],
   "source": [
    "# This is the answer to verify you completed the lab\n",
    "people_with_string_birthdays.count()"
   ]
  },
  {
   "cell_type": "code",
   "execution_count": null,
   "metadata": {
    "collapsed": true
   },
   "outputs": [],
   "source": [
    "updates = []\n",
    "# Again, we're updating several thousand documents, so this will take a little while\n",
    "for person in people_with_string_birthdays:\n",
    "    # Pymongo converts datetime objects into BSON Dates. The dateparser.parse function returns a\n",
    "    # datetime object, so we can simply do the following to update the field properly.\n",
    "    # Replace ZZZZ with the correct update operator\n",
    "    updates.append(UpdateOne({ \"_id\": person[\"_id\"] }, { '$set': { \"birthday\": dateparser.parse(person[\"birthday\"]) } }))\n",
    "    \n",
    "    count += 1\n",
    "                       \n",
    "    if count == batch_size:\n",
    "        people_raw.bulk_write(updates)\n",
    "        updates = []\n",
    "        count = 0\n",
    "        \n",
    "if updates:         \n",
    "    people_raw.bulk_write(updates)\n",
    "    count = 0"
   ]
  },
  {
   "cell_type": "code",
   "execution_count": null,
   "metadata": {
    "collapsed": true
   },
   "outputs": [],
   "source": [
    "# If everything went well this should be zero\n",
    "people_with_string_birthdays.count()"
   ]
  }
 ],
 "metadata": {
  "kernelspec": {
   "display_name": "Python 3",
   "language": "python",
   "name": "python3"
  },
  "language_info": {
   "codemirror_mode": {
    "name": "ipython",
    "version": 3
   },
   "file_extension": ".py",
   "mimetype": "text/x-python",
   "name": "python",
   "nbconvert_exporter": "python",
   "pygments_lexer": "ipython3",
   "version": "3.6.2"
  }
 },
 "nbformat": 4,
 "nbformat_minor": 2
}
